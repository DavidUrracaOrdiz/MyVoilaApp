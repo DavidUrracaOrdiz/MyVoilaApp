{
 "cells": [
  {
   "cell_type": "code",
   "execution_count": null,
   "id": "8347ea47",
   "metadata": {},
   "outputs": [],
   "source": [
    "import ipywidgets as widgets\n",
    "from IPython.display import display, clear_output\n",
    "import pandas as pd\n",
    "import matplotlib.pyplot as plt"
   ]
  },
  {
   "cell_type": "markdown",
   "id": "163ac5da-d63c-4823-91d9-9ca22433d1da",
   "metadata": {},
   "source": [
    "## The super Python Web App\n",
    "Some text here"
   ]
  },
  {
   "cell_type": "code",
   "execution_count": 2,
   "id": "c24febd5-8396-4d3d-946a-5296b6543867",
   "metadata": {},
   "outputs": [
    {
     "data": {
      "application/vnd.jupyter.widget-view+json": {
       "model_id": "b4b5febae36f440fac826baad3cb8225",
       "version_major": 2,
       "version_minor": 0
      },
      "text/plain": [
       "IntText(value=2, description='a:')"
      ]
     },
     "metadata": {},
     "output_type": "display_data"
    },
    {
     "data": {
      "application/vnd.jupyter.widget-view+json": {
       "model_id": "9ce7fea7e28945f8b3eb7b3bf16fd579",
       "version_major": 2,
       "version_minor": 0
      },
      "text/plain": [
       "IntText(value=1, description='b:')"
      ]
     },
     "metadata": {},
     "output_type": "display_data"
    },
    {
     "data": {
      "application/vnd.jupyter.widget-view+json": {
       "model_id": "c9120e8552194e158fe5052284a1e721",
       "version_major": 2,
       "version_minor": 0
      },
      "text/plain": [
       "Button(description='Calculate', style=ButtonStyle())"
      ]
     },
     "metadata": {},
     "output_type": "display_data"
    },
    {
     "data": {
      "application/vnd.jupyter.widget-view+json": {
       "model_id": "45f88c764ed74d20807d98758e179c9a",
       "version_major": 2,
       "version_minor": 0
      },
      "text/plain": [
       "Output()"
      ]
     },
     "metadata": {},
     "output_type": "display_data"
    }
   ],
   "source": [
    "def suma(a, b):\n",
    "    return a + b\n",
    "\n",
    "def multiplicar(a, b):\n",
    "    return a * b\n",
    "\n",
    "# Define input widgets\n",
    "a = widgets.IntText(value=2, description='a:')\n",
    "b = widgets.IntText(value=1, description='b:')\n",
    "button = widgets.Button(description=\"Calculate\")\n",
    "\n",
    "# Define output area\n",
    "output = widgets.Output()\n",
    "\n",
    "# Define button click event\n",
    "def on_button_click(event):\n",
    "    with output:\n",
    "        clear_output()\n",
    "        \n",
    "        # Calculate the results\n",
    "        x = suma(a.value, b.value)\n",
    "        mult = multiplicar(a.value, b.value)\n",
    "        \n",
    "        # Print the results\n",
    "        print(f\"Sum: {x}\")\n",
    "        print(f\"Multiplication: {mult}\")\n",
    "        \n",
    "        # Create and display a pandas DataFrame\n",
    "        data = {'Operation': ['Sum', 'Multiplication'], 'Result': [x, mult]}\n",
    "        df = pd.DataFrame(data)\n",
    "        display(df)\n",
    "        \n",
    "        # Plot the results\n",
    "        df.plot(kind='bar', x='Operation', y='Result', legend=False)\n",
    "        plt.ylabel('Value')\n",
    "        plt.title('Results of Operations')\n",
    "        plt.show()\n",
    "\n",
    "button.on_click(on_button_click)\n",
    "\n",
    "# Display the widgets and output\n",
    "display(a, b, button, output)"
   ]
  },
  {
   "cell_type": "code",
   "execution_count": null,
   "id": "86e085d5-b7b4-4d3c-85a1-9641cc430b55",
   "metadata": {},
   "outputs": [],
   "source": []
  }
 ],
 "metadata": {
  "kernelspec": {
   "display_name": "Python 3 (ipykernel)",
   "language": "python",
   "name": "python3"
  },
  "language_info": {
   "codemirror_mode": {
    "name": "ipython",
    "version": 3
   },
   "file_extension": ".py",
   "mimetype": "text/x-python",
   "name": "python",
   "nbconvert_exporter": "python",
   "pygments_lexer": "ipython3",
   "version": "3.11.5"
  }
 },
 "nbformat": 4,
 "nbformat_minor": 5
}
